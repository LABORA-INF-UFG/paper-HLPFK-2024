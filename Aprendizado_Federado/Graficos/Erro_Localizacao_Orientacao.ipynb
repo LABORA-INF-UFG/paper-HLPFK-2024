{
  "nbformat": 4,
  "nbformat_minor": 0,
  "metadata": {
    "colab": {
      "provenance": []
    },
    "kernelspec": {
      "name": "python3",
      "display_name": "Python 3"
    },
    "language_info": {
      "name": "python"
    }
  },
  "cells": [
    {
      "cell_type": "code",
      "source": [
        "from google.colab import drive\n",
        "drive.mount('/content/drive')\n",
        "\n",
        "import numpy as np\n",
        "import matplotlib.pyplot as plt\n",
        "from scipy.stats import cumfreq\n",
        "from scipy.spatial import distance\n",
        "from scipy.spatial.distance import euclidean\n",
        "import csv\n",
        "import os\n",
        "\n",
        "dir_base = '/content/drive/My Drive/SBRC 2024/results_sbrc_models_fl-cfa/'"
      ],
      "metadata": {
        "colab": {
          "base_uri": "https://localhost:8080/"
        },
        "id": "rJnJM2z2OUA4",
        "outputId": "13dd1992-b58f-42d8-ff31-763a7e232891"
      },
      "execution_count": 8,
      "outputs": [
        {
          "output_type": "stream",
          "name": "stdout",
          "text": [
            "Drive already mounted at /content/drive; to attempt to forcibly remount, call drive.mount(\"/content/drive\", force_remount=True).\n"
          ]
        }
      ]
    },
    {
      "cell_type": "code",
      "source": [
        "# Inicialize as variáveis para a geração dos gráficos\n",
        "num_users = 10"
      ],
      "metadata": {
        "id": "VNRYO_TqQmf9"
      },
      "execution_count": 9,
      "outputs": []
    },
    {
      "cell_type": "code",
      "execution_count": 10,
      "metadata": {
        "id": "HoPSVzLgODHX"
      },
      "outputs": [],
      "source": [
        "# Função para calcular a distância euclidiana entre dois pontos\n",
        "def calculate_euclidean_distance(point1, point2):\n",
        "    return distance.euclidean(point1[:2], point2[:2])\n",
        "\n",
        "def get_cumulate_error(user_id, model_name):\n",
        "  location_errors = []\n",
        "  orientation_errors = []\n",
        "\n",
        "  # Nome do arquivo CSV para o usuário atual\n",
        "  file_name = f\"{user_id}_{model_name.lower()}_model_tracking_data.csv\"\n",
        "  file_path = os.path.join(dir_base, file_name)\n",
        "\n",
        "  # Inicialize os arrays para os dados do usuário atual\n",
        "  user_real_locations      = []\n",
        "  user_predicted_locations = []\n",
        "  user_orientation_errors  = []\n",
        "\n",
        "  # Carregue os dados do arquivo CSV\n",
        "  with open(file_path, 'r') as file:\n",
        "      reader = csv.reader(file)\n",
        "\n",
        "      # Leitura dos dados do arquivo CSV\n",
        "      for row in reader:\n",
        "          real_data = np.array([float(coord) for coord in row[1].strip('[]').split()]) # Converte a string para array NumPy\n",
        "          predicted_data = np.array([float(coord) for coord in row[2].strip('[]').split()])\n",
        "\n",
        "          user_real_locations.append(real_data)\n",
        "          user_predicted_locations.append(predicted_data)\n",
        "\n",
        "          # Cálculo dos erros de orientação\n",
        "          user_orientation_errors.append(np.abs(predicted_data[2] - real_data[2]))\n",
        "\n",
        "  user_real_locations = np.array(user_real_locations)\n",
        "  user_predicted_locations = np.array(user_predicted_locations)\n",
        "\n",
        "  # Cálculo dos erros de localização (distância euclidiana)\n",
        "  user_location_errors = np.array([calculate_euclidean_distance(real, predicted) for real, predicted in zip(user_real_locations, user_predicted_locations)])\n",
        "\n",
        "  user_orientation_errors = np.array(user_orientation_errors)\n",
        "\n",
        "  return [user_location_errors, user_orientation_errors]"
      ]
    },
    {
      "cell_type": "code",
      "source": [
        "def organize_data():\n",
        "    erros_por_modelo = {'ESN': [], 'GRU': [], 'LSTM': []}\n",
        "\n",
        "    for modelo in erros_por_modelo:\n",
        "        for user_id in range(0,10):\n",
        "            erros_por_modelo[modelo].append(get_cumulate_error(user_id, modelo))\n",
        "\n",
        "\n",
        "    errors_loc = []\n",
        "    errors_ori = []\n",
        "    for i in range(10):\n",
        "        errors_loc.append([erro_localizacao for modelo_erros in erros_por_modelo.values() for erro_localizacao, _ in modelo_erros[i:i+1]])\n",
        "        errors_ori.append([erro_orientacao for modelo_erros in erros_por_modelo.values() for _, erro_orientacao in modelo_erros[i:i+1]])\n",
        "\n",
        "    return errors_loc, errors_ori"
      ],
      "metadata": {
        "id": "vSZ-lN4r7-xc"
      },
      "execution_count": 11,
      "outputs": []
    },
    {
      "cell_type": "code",
      "source": [
        "def plot_localization(errors_loc):\n",
        "    fig, axs = plt.subplots(figsize=(24, 6))\n",
        "\n",
        "    index = 0\n",
        "    user = 1\n",
        "    for item in errors_loc:\n",
        "        boxp = axs.boxplot(item, showfliers=False, vert=True, positions=[index, index + 0.2, index + 0.4], patch_artist=True)\n",
        "\n",
        "\n",
        "        ind = 0\n",
        "        for box in (boxp['boxes']):\n",
        "            if ind == 0:\n",
        "                box.set(facecolor = '#33adff')\n",
        "                box.set_edgecolor(color='black')\n",
        "\n",
        "            if ind == 1:\n",
        "                box.set(facecolor = '#e6b800' )\n",
        "                box.set_edgecolor(color='black')\n",
        "\n",
        "            if ind == 2:\n",
        "                box.set(facecolor = '#cc0066' )\n",
        "                box.set_edgecolor(color='black')\n",
        "\n",
        "            ind = ind + 1\n",
        "\n",
        "        user = user + 1\n",
        "\n",
        "        index = index + 0.8\n",
        "\n",
        "    axs.legend([boxp[\"boxes\"][0], boxp[\"boxes\"][1], boxp[\"boxes\"][2]], ['ESN', 'GRU', 'LSTM'], loc='upper right', fontsize=22)\n",
        "    axs.set_xticklabels(labels=['', '', '']*10, fontsize=22)\n",
        "    axs.set_ylabel('Localização (Metros)', fontsize=22)\n",
        "    axs.set_yticks([0, 40, 80, 120])\n",
        "    axs.set_yticklabels([0, 40, 80, 120], fontsize=22)\n",
        "    axs.grid(axis='y')\n",
        "\n",
        "    #plt.yscale(\"log\")\n",
        "\n",
        "    plt.savefig(\"boxplot_localization.pdf\", bbox_inches='tight')"
      ],
      "metadata": {
        "id": "DPIyE73J53w-"
      },
      "execution_count": 12,
      "outputs": []
    },
    {
      "cell_type": "code",
      "source": [
        "def plot_orientation(errors_ori):\n",
        "    fig, axs = plt.subplots(figsize=(24, 6))\n",
        "\n",
        "    index = 0\n",
        "    user = 1\n",
        "    for item in errors_ori:\n",
        "        boxp = axs.boxplot(item, showfliers=False, vert=True, positions=[index, index + 0.2, index + 0.4], patch_artist=True)\n",
        "\n",
        "        ind = 0\n",
        "        for box in (boxp['boxes']):\n",
        "            if ind == 0:\n",
        "                box.set(facecolor = '#33adff')\n",
        "                box.set_edgecolor(color='black')\n",
        "\n",
        "            if ind == 1:\n",
        "                box.set(facecolor = '#e6b800' )\n",
        "                box.set_edgecolor(color='black')\n",
        "\n",
        "            if ind == 2:\n",
        "                box.set(facecolor = '#cc0066' )\n",
        "                box.set_edgecolor(color='black')\n",
        "\n",
        "            ind = ind + 1\n",
        "\n",
        "        user = user + 1\n",
        "\n",
        "        index = index + 0.8\n",
        "\n",
        "    l = []\n",
        "    for i in range(1,11):\n",
        "        l = l + ['', 'usuário ' + str(i), '']\n",
        "\n",
        "\n",
        "    axs.legend([boxp[\"boxes\"][0], boxp[\"boxes\"][1], boxp[\"boxes\"][2]], ['ESN', 'GRU', 'LSTM'], loc='upper right', fontsize=22)\n",
        "    axs.set_xticklabels(labels=l, fontsize=22)\n",
        "    axs.set_ylabel('Orientação (Graus)', fontsize=22)\n",
        "    axs.set_yticks([0, 200, 400, 600])\n",
        "    axs.set_yticklabels([0, 200, 400, 600], fontsize=22)\n",
        "    axs.grid(axis='y')\n",
        "\n",
        "    #plt.yscale(\"log\")\n",
        "\n",
        "    plt.savefig(\"boxplot_orientation.pdf\", bbox_inches='tight')"
      ],
      "metadata": {
        "id": "KL1aUR_H8IHb"
      },
      "execution_count": 13,
      "outputs": []
    },
    {
      "cell_type": "code",
      "source": [
        "errors_loc, errors_ori = organize_data()\n",
        "\n",
        "plot_localization(errors_loc)\n",
        "plot_orientation(errors_ori)"
      ],
      "metadata": {
        "id": "TmSdaEk48Rpz"
      },
      "execution_count": null,
      "outputs": []
    }
  ]
}