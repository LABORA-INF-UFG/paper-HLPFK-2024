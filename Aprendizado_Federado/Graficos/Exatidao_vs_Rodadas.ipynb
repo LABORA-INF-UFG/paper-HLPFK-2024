{
  "nbformat": 4,
  "nbformat_minor": 0,
  "metadata": {
    "colab": {
      "provenance": []
    },
    "kernelspec": {
      "name": "python3",
      "display_name": "Python 3"
    },
    "language_info": {
      "name": "python"
    }
  },
  "cells": [
    {
      "cell_type": "code",
      "execution_count": null,
      "metadata": {
        "id": "k2CVoNvTwgnb"
      },
      "outputs": [],
      "source": [
        "from google.colab import drive\n",
        "drive.mount('/content/drive')\n",
        "\n",
        "import pandas as pd\n",
        "import matplotlib.pyplot as plt\n",
        "\n",
        "dir_base = '/content/drive/My Drive/SBRC 2024/'"
      ]
    },
    {
      "cell_type": "code",
      "source": [
        "import pandas as pd\n",
        "import matplotlib.pyplot as plt\n",
        "import os\n",
        "\n",
        "# Função para contar usuários convergidos por rodada\n",
        "def contar_convergidos(df):\n",
        "    convergidos_por_rodada = df.groupby('Rodada')['Acuracia'].apply(lambda x: (x >= 99.5).sum())\n",
        "    return convergidos_por_rodada\n",
        "\n",
        "# Função para plotar gráficos comparativos\n",
        "def plotar_grafico_comparativo(rnn, sfa_df, cfa_df):\n",
        "    convergidos_sfa = contar_convergidos(sfa_df)\n",
        "    convergidos_cfa = contar_convergidos(cfa_df)\n",
        "\n",
        "    plt.clf()\n",
        "    plt.plot(convergidos_sfa, label=f'Sem estratégia', linestyle='-', color='red')\n",
        "    plt.plot(convergidos_cfa, label=f'Com estratégia', linestyle='-', color='blue')\n",
        "\n",
        "    font = 20\n",
        "\n",
        "    # Configurações do gráfico\n",
        "    plt.xlabel('Rodadas', fontsize=24)\n",
        "    plt.ylabel('Usuários', fontsize=24)\n",
        "    plt.legend(fontsize=font, loc='lower right')\n",
        "    plt.grid(False)\n",
        "\n",
        "    plt.tick_params(axis='both', labelsize=font)\n",
        "    plt.xticks(range(0, 650, 100), fontsize=22)\n",
        "    plt.yticks(range(0, 21, 4), fontsize=22)\n",
        "    plt.ylim(0, 20)\n",
        "    plt.xlim(0, 650)\n",
        "    plt.grid(linestyle='--', axis='both')\n",
        "\n",
        "    # Adicionando o texto abaixo do gráfico com um pequeno espaço\n",
        "    dict_label = {\n",
        "        'gru':'(a) GRU',\n",
        "        'esn':'(b) ESN',\n",
        "        'lstm':'(c) LSTM'\n",
        "    }\n",
        "\n",
        "    plt.tight_layout()\n",
        "\n",
        "    plt.savefig(f'Usuários por Rodadas - {rnn.upper()}.pdf', bbox_inches='tight')\n",
        "\n",
        "    plt.show()\n",
        "\n",
        "# Configuração da grade de subgráficos\n",
        "rnn_list = ['gru', 'esn', 'lstm']\n",
        "\n",
        "for rnn in rnn_list:\n",
        "      sfa_file_path = dir_base + f'csv_accuracy_per_round_{rnn}_sfa.csv'\n",
        "      cfa_file_path = dir_base + f'csv_accuracy_per_round_{rnn}_cfa.csv'\n",
        "\n",
        "      if os.path.exists(sfa_file_path) and os.path.exists(cfa_file_path):\n",
        "          sfa_df = pd.read_csv(sfa_file_path)\n",
        "          cfa_df = pd.read_csv(cfa_file_path)\n",
        "\n",
        "          plotar_grafico_comparativo(rnn, sfa_df, cfa_df)"
      ],
      "metadata": {
        "id": "zAD6Sig3WyUb"
      },
      "execution_count": null,
      "outputs": []
    }
  ]
}