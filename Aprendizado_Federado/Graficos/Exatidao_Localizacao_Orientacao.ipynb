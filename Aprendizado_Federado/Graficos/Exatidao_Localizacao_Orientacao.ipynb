{
  "nbformat": 4,
  "nbformat_minor": 0,
  "metadata": {
    "colab": {
      "provenance": []
    },
    "kernelspec": {
      "name": "python3",
      "display_name": "Python 3"
    },
    "language_info": {
      "name": "python"
    }
  },
  "cells": [
    {
      "cell_type": "code",
      "execution_count": 1,
      "metadata": {
        "colab": {
          "base_uri": "https://localhost:8080/"
        },
        "id": "R55BPHPgv6-n",
        "outputId": "873cf342-ec9b-412b-f014-3583f3c2a884"
      },
      "outputs": [
        {
          "output_type": "stream",
          "name": "stdout",
          "text": [
            "Mounted at /content/drive\n"
          ]
        }
      ],
      "source": [
        "from google.colab import drive\n",
        "drive.mount('/content/drive')\n",
        "\n",
        "import os\n",
        "import csv\n",
        "import matplotlib.pyplot as plt\n",
        "import numpy as np\n",
        "from itertools import cycle\n",
        "from scipy.spatial import distance\n",
        "\n",
        "dir_base = '/content/drive/My Drive/SBRC 2024/results_sbrc_models_fl-cfa/'"
      ]
    },
    {
      "cell_type": "code",
      "source": [
        "real_locations = []\n",
        "real_orientations = []\n",
        "predicted_gru_locations = []\n",
        "predicted_gru_orientations = []\n",
        "predicted_esn_locations = []\n",
        "predicted_esn_orientations = []\n",
        "predicted_lstm_locations = []\n",
        "predicted_lstm_orientations = []"
      ],
      "metadata": {
        "id": "IyZaCQdWYQZC"
      },
      "execution_count": 2,
      "outputs": []
    },
    {
      "cell_type": "code",
      "source": [
        "def read_csv_plot_files(user_id, model):\n",
        "  file_name = f\"{user_id}_{model}_model_tracking_data.csv\"\n",
        "  file_path = os.path.join(dir_base, file_name)\n",
        "\n",
        "  user_real_locations         = []\n",
        "  user_real_orientations      = []\n",
        "  user_predicted_locations    = []\n",
        "  user_predicted_orientations = []\n",
        "\n",
        "  with open(file_path, 'r') as file:\n",
        "      reader = csv.reader(file)\n",
        "\n",
        "      for row in reader:\n",
        "          real_data = np.array([float(coord) for coord in row[1].strip('[]').split()])\n",
        "          user_real_locations.append([real_data[0], real_data[1]])\n",
        "          user_real_orientations.append(real_data[2])\n",
        "\n",
        "          predicted_data = np.array([float(coord) for coord in row[2].strip('[]').split()])\n",
        "          user_predicted_locations.append([predicted_data[0], predicted_data[1]])\n",
        "          user_predicted_orientations.append(predicted_data[2])\n",
        "\n",
        "  return user_real_locations, user_real_orientations, user_predicted_locations, user_predicted_orientations"
      ],
      "metadata": {
        "id": "Bgh6_hgXxQOu"
      },
      "execution_count": 3,
      "outputs": []
    },
    {
      "cell_type": "code",
      "source": [
        "for user_id in range(0,10):\n",
        "  user_real_locations, user_real_orientations, user_predicted_locations, user_predicted_orientations = \\\n",
        "    read_csv_plot_files(user_id, 'gru')\n",
        "\n",
        "  real_locations.append(user_real_locations)\n",
        "  real_orientations.append(user_real_orientations)\n",
        "  predicted_gru_locations.append(user_predicted_locations)\n",
        "  predicted_gru_orientations.append(user_predicted_orientations)\n",
        "\n",
        "for user_id in range(0,10):\n",
        "  _, _, user_predicted_locations, user_predicted_orientations = \\\n",
        "    read_csv_plot_files(user_id, 'esn')\n",
        "\n",
        "  predicted_esn_locations.append(user_predicted_locations)\n",
        "  predicted_esn_orientations.append(user_predicted_orientations)\n",
        "\n",
        "for user_id in range(0,10):\n",
        "  _, _, user_predicted_locations, user_predicted_orientations = \\\n",
        "    read_csv_plot_files(user_id, 'lstm')\n",
        "\n",
        "  predicted_lstm_locations.append(user_predicted_locations)\n",
        "  predicted_lstm_orientations.append(user_predicted_orientations)"
      ],
      "metadata": {
        "id": "9hBmtZRdyNsB"
      },
      "execution_count": 4,
      "outputs": []
    },
    {
      "cell_type": "code",
      "source": [
        "usuarios = np.arange(1, 11)\n",
        "\n",
        "orientacao_gru = []\n",
        "orientacao_lstm = []\n",
        "orientacao_esn = []\n",
        "\n",
        "for user_id in range(0,10):\n",
        "    orientacao_gru.append([abs(pred - real) for pred, real in zip(predicted_gru_orientations[user_id], real_orientations[user_id])])\n",
        "    orientacao_lstm.append([abs(pred - real) for pred, real in zip(predicted_lstm_orientations[user_id], real_orientations[user_id])])\n",
        "    orientacao_esn.append([abs(pred - real) for pred, real in zip(predicted_esn_orientations[user_id], real_orientations[user_id])])\n",
        "\n",
        "orientacao_gru = np.array(orientacao_gru)\n",
        "orientacao_lstm = np.array(orientacao_lstm)\n",
        "orientacao_esn = np.array(orientacao_esn)\n",
        "\n",
        "# Calcular a média da orientação para cada usuário e cada rede\n",
        "media_gru = (orientacao_gru / 225).tolist()[0]\n",
        "media_lstm = (orientacao_lstm / 326).tolist()[0]\n",
        "media_esn = (orientacao_esn / 269).tolist()[0]\n",
        "\n",
        "# Plotar gráfico de barras agrupadas\n",
        "barWidth = 0.25\n",
        "r1 = np.arange(len(usuarios))\n",
        "r2 = [x + barWidth for x in r1]\n",
        "r3 = [x + barWidth for x in r2]\n",
        "\n",
        "fig1 = plt.figure(figsize=(10, 5))\n",
        "\n",
        "plt.rcParams['font.size'] = '20'\n",
        "plt.tight_layout()\n",
        "\n",
        "plt.bar(r3, media_esn, color='#33adff', width=barWidth, edgecolor='grey', label='ESN')\n",
        "plt.bar(r1, media_gru, color='#e6b800', width=barWidth, edgecolor='grey', label='GRU')\n",
        "plt.bar(r2, media_lstm, color='#cc0066', width=barWidth, edgecolor='grey', label='LSTM')\n",
        "\n",
        "# Ajustar layout\n",
        "plt.xlabel('Usuários', fontsize=24)\n",
        "plt.ylabel('Exatidão/Convergência', fontsize=24)\n",
        "plt.xticks([r + barWidth for r in range(len(usuarios))], usuarios)\n",
        "plt.legend()\n",
        "\n",
        "plt.savefig(dir_base + \"Orientação - Comparativo entre RNNs.pdf\", bbox_inches='tight')"
      ],
      "metadata": {
        "id": "QT8_rdtmrWxD"
      },
      "execution_count": null,
      "outputs": []
    },
    {
      "cell_type": "code",
      "source": [
        "usuarios = np.arange(1, 11)\n",
        "\n",
        "localizacao_gru = []\n",
        "localizacao_lstm = []\n",
        "localizacao_esn = []\n",
        "\n",
        "for user_id in range(0,10):\n",
        "    localizacao_gru.append([distance.euclidean((pred[0], pred[1]),(real[0],real[1])) for pred, real in zip(predicted_gru_locations[user_id], real_locations[user_id])])\n",
        "    localizacao_lstm.append([distance.euclidean((pred[0], pred[1]),(real[0],real[1])) for pred, real in zip(predicted_lstm_locations[user_id], real_locations[user_id])])\n",
        "    localizacao_esn.append([distance.euclidean((pred[0], pred[1]),(real[0],real[1])) for pred, real in zip(predicted_esn_locations[user_id], real_locations[user_id])])\n",
        "\n",
        "localizacao_gru = np.array(localizacao_gru)\n",
        "localizacao_lstm = np.array(localizacao_lstm)\n",
        "localizacao_esn = np.array(localizacao_esn)\n",
        "\n",
        "# Calcular a média da orientação para cada usuário e cada rede\n",
        "media_gru = (localizacao_gru / 225).tolist()[0]\n",
        "media_lstm = (localizacao_lstm / 326).tolist()[0]\n",
        "media_esn = (localizacao_esn / 269).tolist()[0]\n",
        "\n",
        "# Plotar gráfico de barras agrupadas\n",
        "barWidth = 0.25\n",
        "r1 = np.arange(len(usuarios))\n",
        "r2 = [x + barWidth for x in r1]\n",
        "r3 = [x + barWidth for x in r2]\n",
        "\n",
        "fig2 = plt.figure(figsize=(10, 5))\n",
        "\n",
        "plt.rcParams['font.size'] = '20'\n",
        "plt.tight_layout()\n",
        "\n",
        "plt.bar(r3, media_esn, color='#33adff', width=barWidth, edgecolor='grey', label='ESN')\n",
        "plt.bar(r1, media_gru, color='#e6b800', width=barWidth, edgecolor='grey', label='GRU')\n",
        "plt.bar(r2, media_lstm, color='#cc0066', width=barWidth, edgecolor='grey', label='LSTM')\n",
        "\n",
        "# Ajustar layout\n",
        "plt.xlabel('Usuários', fontsize=24)\n",
        "plt.ylabel('Exatidão/Convergência', fontsize=24)\n",
        "plt.xticks([r + barWidth for r in range(len(usuarios))], usuarios)\n",
        "#plt.title('Comparação do Erro de Localização(Precisão) por Usuário/Rodadas para Convergência - GRU, LSTM, ESN')\n",
        "plt.legend()\n",
        "\n",
        "#plt.show()\n",
        "\n",
        "plt.savefig(dir_base + \"Localização - Comparativo entre RNNs.pdf\", bbox_inches='tight')"
      ],
      "metadata": {
        "id": "eh4M8KL66cem"
      },
      "execution_count": null,
      "outputs": []
    }
  ]
}